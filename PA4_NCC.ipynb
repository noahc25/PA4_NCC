{
 "cells": [
  {
   "cell_type": "markdown",
   "id": "d16deae6",
   "metadata": {},
   "source": [
    "# Programming Assignment 4\n",
    "## Noah Clark\n",
    "### 1.0\n",
    "#### CS-150-02"
   ]
  },
  {
   "cell_type": "code",
   "execution_count": 34,
   "id": "bc3d957c",
   "metadata": {},
   "outputs": [],
   "source": [
    "numbers=[23,56,45,89,234,9,25,19,15,21,22]"
   ]
  },
  {
   "cell_type": "markdown",
   "id": "6e543de0",
   "metadata": {},
   "source": [
    "#### Append: Adds a specified item to the end of the list"
   ]
  },
  {
   "cell_type": "code",
   "execution_count": 11,
   "id": "59092adc",
   "metadata": {},
   "outputs": [
    {
     "name": "stdout",
     "output_type": "stream",
     "text": [
      "[23, 56, 45, 89, 234, 9, 25, 19, 15, 21, 22]\n",
      "[23, 56, 45, 89, 234, 9, 25, 19, 15, 21, 22, 50]\n"
     ]
    }
   ],
   "source": [
    "print(numbers)\n",
    "numbers.append(50)\n",
    "print(numbers)"
   ]
  },
  {
   "cell_type": "markdown",
   "id": "923ae149",
   "metadata": {},
   "source": [
    "#### Extend: Adds the elements from another tuple or list on the end of the other list"
   ]
  },
  {
   "cell_type": "code",
   "execution_count": 18,
   "id": "44f6b2c0",
   "metadata": {},
   "outputs": [
    {
     "name": "stdout",
     "output_type": "stream",
     "text": [
      "[23, 56, 45, 89, 234, 9, 25, 19, 15, 21, 22]\n",
      "[23, 56, 45, 89, 234, 9, 25, 19, 15, 21, 22, 5, 10, 15]\n"
     ]
    }
   ],
   "source": [
    "numbers2=[5,10,15]\n",
    "print(numbers)\n",
    "numbers.extend(numbers2)\n",
    "print(numbers)"
   ]
  },
  {
   "cell_type": "markdown",
   "id": "8c3f501e",
   "metadata": {},
   "source": [
    "#### Insert: Inserts an element in the desired spot in a list"
   ]
  },
  {
   "cell_type": "code",
   "execution_count": 20,
   "id": "c18a02f8",
   "metadata": {},
   "outputs": [
    {
     "name": "stdout",
     "output_type": "stream",
     "text": [
      "[23, 56, 45, 89, 234, 9, 25, 19, 15, 21, 22]\n",
      "[23, 56, 45, 89, 234, 999999, 9, 25, 19, 15, 21, 22]\n"
     ]
    }
   ],
   "source": [
    "print(numbers)\n",
    "numbers.insert(5,999999)\n",
    "print(numbers)"
   ]
  },
  {
   "cell_type": "markdown",
   "id": "b5b3c8a6",
   "metadata": {},
   "source": [
    "#### Remove: Removes the desired element from the list"
   ]
  },
  {
   "cell_type": "code",
   "execution_count": 23,
   "id": "7e4d3aaa",
   "metadata": {},
   "outputs": [
    {
     "name": "stdout",
     "output_type": "stream",
     "text": [
      "[23, 56, 45, 89, 234, 9, 25, 19, 15, 21, 22]\n",
      "[23, 56, 45, 89, 234, 25, 19, 15, 21, 22]\n"
     ]
    }
   ],
   "source": [
    "print(numbers)\n",
    "numbers.remove(9)\n",
    "print(numbers)"
   ]
  },
  {
   "cell_type": "markdown",
   "id": "c3550e66",
   "metadata": {},
   "source": [
    "#### Count: Tells how many times the specified element comes up in a list"
   ]
  },
  {
   "cell_type": "code",
   "execution_count": 25,
   "id": "d23904f7",
   "metadata": {},
   "outputs": [
    {
     "name": "stdout",
     "output_type": "stream",
     "text": [
      "[23, 56, 45, 89, 234, 25, 19, 15, 21, 22]\n",
      "1\n"
     ]
    }
   ],
   "source": [
    "print(numbers)\n",
    "count=numbers.count(15)\n",
    "print(count)"
   ]
  },
  {
   "cell_type": "markdown",
   "id": "9a7c78cd",
   "metadata": {},
   "source": [
    "#### Index: Gives the index of the specified item in the list"
   ]
  },
  {
   "cell_type": "code",
   "execution_count": 26,
   "id": "2c350e4c",
   "metadata": {},
   "outputs": [
    {
     "name": "stdout",
     "output_type": "stream",
     "text": [
      "[23, 56, 45, 89, 234, 25, 19, 15, 21, 22]\n",
      "2\n"
     ]
    }
   ],
   "source": [
    "print(numbers)\n",
    "position=numbers.index(45)\n",
    "print(position)"
   ]
  },
  {
   "cell_type": "markdown",
   "id": "65e8be43",
   "metadata": {},
   "source": [
    "#### Pop: When given an index number, it takes out the element at that index number"
   ]
  },
  {
   "cell_type": "code",
   "execution_count": 27,
   "id": "6a7a408f",
   "metadata": {},
   "outputs": [
    {
     "name": "stdout",
     "output_type": "stream",
     "text": [
      "[23, 56, 45, 89, 234, 25, 19, 15, 21, 22]\n",
      "45\n"
     ]
    }
   ],
   "source": [
    "print(numbers)\n",
    "removed=numbers.pop(2)\n",
    "print(removed)"
   ]
  },
  {
   "cell_type": "markdown",
   "id": "0bb04de5",
   "metadata": {},
   "source": [
    "#### Sort: Sorts the elements in order from least to greatest"
   ]
  },
  {
   "cell_type": "code",
   "execution_count": 28,
   "id": "0a4b38b7",
   "metadata": {},
   "outputs": [
    {
     "name": "stdout",
     "output_type": "stream",
     "text": [
      "[23, 56, 89, 234, 25, 19, 15, 21, 22]\n",
      "[15, 19, 21, 22, 23, 25, 56, 89, 234]\n"
     ]
    }
   ],
   "source": [
    "print(numbers)\n",
    "numbers.sort()\n",
    "print(numbers)"
   ]
  },
  {
   "cell_type": "markdown",
   "id": "ea5461dc",
   "metadata": {},
   "source": [
    "#### Copy: Copies the list"
   ]
  },
  {
   "cell_type": "code",
   "execution_count": 30,
   "id": "b89651b9",
   "metadata": {},
   "outputs": [
    {
     "name": "stdout",
     "output_type": "stream",
     "text": [
      "[15, 19, 21, 22, 23, 25, 56, 89, 234]\n",
      "[15, 19, 21, 22, 23, 25, 56, 89, 234]\n"
     ]
    }
   ],
   "source": [
    "print(numbers)\n",
    "numbers2=numbers.copy()\n",
    "print(numbers2)"
   ]
  },
  {
   "cell_type": "markdown",
   "id": "f12f96e3",
   "metadata": {},
   "source": [
    "#### Clear: Removes all the elements from the list"
   ]
  },
  {
   "cell_type": "code",
   "execution_count": 31,
   "id": "fc0d3b8a",
   "metadata": {},
   "outputs": [
    {
     "name": "stdout",
     "output_type": "stream",
     "text": [
      "[15, 19, 21, 22, 23, 25, 56, 89, 234]\n",
      "[]\n"
     ]
    }
   ],
   "source": [
    "print(numbers)\n",
    "numbers.clear()\n",
    "print(numbers)"
   ]
  },
  {
   "cell_type": "markdown",
   "id": "41ffc200",
   "metadata": {},
   "source": [
    "#### Any: Returns True if any element in the list is True"
   ]
  },
  {
   "cell_type": "code",
   "execution_count": 32,
   "id": "136242b5",
   "metadata": {},
   "outputs": [
    {
     "name": "stdout",
     "output_type": "stream",
     "text": [
      "True\n"
     ]
    }
   ],
   "source": [
    "answers=[\"False\", \"True\", \"True\"]\n",
    "student=any(answers)\n",
    "print(student)"
   ]
  },
  {
   "cell_type": "markdown",
   "id": "69f6374d",
   "metadata": {},
   "source": [
    "#### Filter: Filters out elements that are not true using a set condition"
   ]
  },
  {
   "cell_type": "code",
   "execution_count": 37,
   "id": "4b92e019",
   "metadata": {},
   "outputs": [
    {
     "name": "stdout",
     "output_type": "stream",
     "text": [
      "[23, 56, 45, 89, 234, 9, 25, 19, 15, 21, 22]\n"
     ]
    },
    {
     "data": {
      "text/plain": [
       "[23, 45, 89, 9, 25, 19, 15, 21]"
      ]
     },
     "execution_count": 37,
     "metadata": {},
     "output_type": "execute_result"
    }
   ],
   "source": [
    "print(numbers)\n",
    "def odd(number):\n",
    "    if number % 2==1:\n",
    "        return number\n",
    "list(filter(odd,numbers))"
   ]
  },
  {
   "cell_type": "markdown",
   "id": "2dc4d675",
   "metadata": {},
   "source": [
    "#### List: Converts a string to a list"
   ]
  },
  {
   "cell_type": "code",
   "execution_count": 39,
   "id": "ab736547",
   "metadata": {},
   "outputs": [
    {
     "name": "stdout",
     "output_type": "stream",
     "text": [
      "Kanye West\n",
      "['K', 'a', 'n', 'y', 'e', ' ', 'W', 'e', 's', 't']\n"
     ]
    }
   ],
   "source": [
    "name=\"Kanye West\"\n",
    "print(name)\n",
    "letters=list(name)\n",
    "print(letters)"
   ]
  },
  {
   "cell_type": "markdown",
   "id": "e7f0495e",
   "metadata": {},
   "source": [
    "#### Map: Uses a function on every element in the list"
   ]
  },
  {
   "cell_type": "code",
   "execution_count": 43,
   "id": "16670986",
   "metadata": {},
   "outputs": [
    {
     "name": "stdout",
     "output_type": "stream",
     "text": [
      "[23, 56, 45, 89, 234, 9, 25, 19, 15, 21, 22]\n"
     ]
    },
    {
     "data": {
      "text/plain": [
       "[33, 66, 55, 99, 244, 19, 35, 29, 25, 31, 32]"
      ]
     },
     "execution_count": 43,
     "metadata": {},
     "output_type": "execute_result"
    }
   ],
   "source": [
    "print(numbers)\n",
    "def add(number):\n",
    "    return number+10\n",
    "list(map(add,numbers))"
   ]
  },
  {
   "cell_type": "markdown",
   "id": "84113f43",
   "metadata": {},
   "source": [
    "#### Cmp: Uses -1, 0, and 1 to compare integers(-1 means the first integer is less than the second, 1 means the first integer is greater than the second, and 0 means they are equal)"
   ]
  },
  {
   "cell_type": "code",
   "execution_count": 52,
   "id": "86ccb11a",
   "metadata": {},
   "outputs": [
    {
     "ename": "NameError",
     "evalue": "name 'cmp' is not defined",
     "output_type": "error",
     "traceback": [
      "\u001b[0;31m---------------------------------------------------------------------------\u001b[0m",
      "\u001b[0;31mNameError\u001b[0m                                 Traceback (most recent call last)",
      "\u001b[0;32m<ipython-input-52-75e0c5a6c6a9>\u001b[0m in \u001b[0;36m<module>\u001b[0;34m\u001b[0m\n\u001b[1;32m      1\u001b[0m \u001b[0mnumbers1\u001b[0m\u001b[0;34m,\u001b[0m\u001b[0mnumbers2\u001b[0m \u001b[0;34m=\u001b[0m\u001b[0;34m(\u001b[0m\u001b[0;36m45\u001b[0m\u001b[0;34m,\u001b[0m \u001b[0;36m67\u001b[0m\u001b[0;34m,\u001b[0m \u001b[0;36m54\u001b[0m\u001b[0;34m,\u001b[0m \u001b[0;36m2003\u001b[0m\u001b[0;34m,\u001b[0m \u001b[0;36m2021\u001b[0m\u001b[0;34m,\u001b[0m \u001b[0;36m45\u001b[0m\u001b[0;34m,\u001b[0m \u001b[0;36m50\u001b[0m\u001b[0;34m)\u001b[0m\u001b[0;34m,\u001b[0m \u001b[0;34m(\u001b[0m\u001b[0;36m78\u001b[0m\u001b[0;34m,\u001b[0m \u001b[0;36m54\u001b[0m\u001b[0;34m,\u001b[0m \u001b[0;36m42\u001b[0m\u001b[0;34m,\u001b[0m \u001b[0;36m2004\u001b[0m\u001b[0;34m,\u001b[0m \u001b[0;36m2018\u001b[0m\u001b[0;34m,\u001b[0m \u001b[0;36m65\u001b[0m\u001b[0;34m,\u001b[0m \u001b[0;36m12\u001b[0m\u001b[0;34m)\u001b[0m\u001b[0;34m\u001b[0m\u001b[0;34m\u001b[0m\u001b[0m\n\u001b[0;32m----> 2\u001b[0;31m \u001b[0mprint\u001b[0m\u001b[0;34m(\u001b[0m\u001b[0mcmp\u001b[0m\u001b[0;34m(\u001b[0m\u001b[0mnumbers1\u001b[0m\u001b[0;34m,\u001b[0m \u001b[0mnumbers2\u001b[0m\u001b[0;34m)\u001b[0m\u001b[0;34m)\u001b[0m\u001b[0;34m\u001b[0m\u001b[0;34m\u001b[0m\u001b[0m\n\u001b[0m",
      "\u001b[0;31mNameError\u001b[0m: name 'cmp' is not defined"
     ]
    }
   ],
   "source": [
    "numbers1,numbers2 =(45, 67, 54, 2003, 2021, 45, 50), (78, 54, 42, 2004, 2018, 65, 12)\n",
    "print(cmp(numbers1, numbers2))"
   ]
  },
  {
   "cell_type": "markdown",
   "id": "b6910117",
   "metadata": {},
   "source": [
    "#### Len: Returns the number of items in the tuple"
   ]
  },
  {
   "cell_type": "code",
   "execution_count": 53,
   "id": "c59e9ad8",
   "metadata": {},
   "outputs": [
    {
     "name": "stdout",
     "output_type": "stream",
     "text": [
      "7\n"
     ]
    }
   ],
   "source": [
    "numbers=(45, 67, 54, 2003, 2021, 45, 50)\n",
    "amount=len(numbers)\n",
    "print(amount)"
   ]
  },
  {
   "cell_type": "markdown",
   "id": "45cb6527",
   "metadata": {},
   "source": [
    "#### Max: Returns the largest number in the tuple"
   ]
  },
  {
   "cell_type": "code",
   "execution_count": 54,
   "id": "3e3d6934",
   "metadata": {},
   "outputs": [
    {
     "name": "stdout",
     "output_type": "stream",
     "text": [
      "2021\n"
     ]
    }
   ],
   "source": [
    "numbers=(45, 67, 54, 2003, 2021, 45, 50)\n",
    "maximum=max(numbers)\n",
    "print(maximum)"
   ]
  },
  {
   "cell_type": "markdown",
   "id": "d55b1d04",
   "metadata": {},
   "source": [
    "#### Tuple(seq): Converts a list or sequence into a tuple"
   ]
  },
  {
   "cell_type": "code",
   "execution_count": 55,
   "id": "f1308115",
   "metadata": {},
   "outputs": [
    {
     "name": "stdout",
     "output_type": "stream",
     "text": [
      "(23, 56, 45, 89, 234, 9, 25, 19, 15, 21, 22)\n"
     ]
    }
   ],
   "source": [
    "numbers=[23,56,45,89,234,9,25,19,15,21,22]\n",
    "tuple=tuple(numbers)\n",
    "print(tuple)"
   ]
  }
 ],
 "metadata": {
  "kernelspec": {
   "display_name": "Python 3",
   "language": "python",
   "name": "python3"
  },
  "language_info": {
   "codemirror_mode": {
    "name": "ipython",
    "version": 3
   },
   "file_extension": ".py",
   "mimetype": "text/x-python",
   "name": "python",
   "nbconvert_exporter": "python",
   "pygments_lexer": "ipython3",
   "version": "3.8.8"
  }
 },
 "nbformat": 4,
 "nbformat_minor": 5
}
